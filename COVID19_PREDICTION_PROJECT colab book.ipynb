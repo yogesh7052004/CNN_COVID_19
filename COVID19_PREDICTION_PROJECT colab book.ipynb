{
  "cells": [
    {
      "cell_type": "code",
      "execution_count": null,
      "metadata": {
        "id": "7_NlEqyDb69u"
      },
      "outputs": [],
      "source": [
        "# import zipfile\n",
        "# zip_path = \"/content/drive/MyDrive/covid19_prediction /covid19_prediction.zip\"  # Replace with the actual path to your zip file\n",
        "# extract_path = \"/content/drive/MyDrive/covid19_prediction \"  # Replace with the desired path for the extracted files\n",
        "# with zipfile.ZipFile(zip_path, 'r') as zip_ref:\n",
        "#     zip_ref.extractall(extract_path)"
      ]
    },
    {
      "cell_type": "code",
      "execution_count": 1,
      "metadata": {
        "colab": {
          "base_uri": "https://localhost:8080/"
        },
        "id": "H0sos1IOMozS",
        "outputId": "7b380781-b3fc-4d41-85ed-d74a5b1b3c5b"
      },
      "outputs": [
        {
          "output_type": "stream",
          "name": "stdout",
          "text": [
            "Drive already mounted at /content/drive; to attempt to forcibly remount, call drive.mount(\"/content/drive\", force_remount=True).\n"
          ]
        }
      ],
      "source": [
        "from google.colab import drive\n",
        "drive.mount('/content/drive')"
      ]
    },
    {
      "cell_type": "markdown",
      "metadata": {
        "id": "tLB54cCMcjuG"
      },
      "source": [
        "##**Data Augmentation**"
      ]
    },
    {
      "cell_type": "code",
      "execution_count": 2,
      "metadata": {
        "id": "wd9_UpLgb7Jk"
      },
      "outputs": [],
      "source": [
        "# import the nececessary lib\n",
        "from tensorflow.keras.preprocessing.image import ImageDataGenerator"
      ]
    },
    {
      "cell_type": "code",
      "execution_count": 3,
      "metadata": {
        "id": "hYWu5SeZcy46"
      },
      "outputs": [],
      "source": [
        "# data augmentation for the training variable\n",
        "\n",
        "train_datagen = ImageDataGenerator(rescale =1./255,zoom_range=0.2,horizontal_flip = True)"
      ]
    },
    {
      "cell_type": "code",
      "execution_count": 4,
      "metadata": {
        "id": "FoB87lg8cyu-"
      },
      "outputs": [],
      "source": [
        "# data augmentation for the testing variable\n",
        "\n",
        "test_datagen = ImageDataGenerator(rescale =1./255)"
      ]
    },
    {
      "cell_type": "code",
      "execution_count": 5,
      "metadata": {
        "colab": {
          "base_uri": "https://localhost:8080/"
        },
        "id": "lYs4dqNmcyqa",
        "outputId": "a5a0da18-73dc-4fae-ab8a-199d6a0aac36"
      },
      "outputs": [
        {
          "output_type": "stream",
          "name": "stdout",
          "text": [
            "Found 5144 images belonging to 3 classes.\n"
          ]
        }
      ],
      "source": [
        "# data augmentation on the training data\n",
        "\n",
        "\n",
        "x_train = train_datagen.flow_from_directory('/content/drive/MyDrive/covid19_prediction /Data/train',\n",
        "                                            target_size=(64,64),\n",
        "                                            class_mode = 'categorical',\n",
        "                                            batch_size = 100)\n"
      ]
    },
    {
      "cell_type": "code",
      "execution_count": 6,
      "metadata": {
        "colab": {
          "base_uri": "https://localhost:8080/"
        },
        "id": "WPG765jDdBmX",
        "outputId": "c489e52a-a236-4877-e815-bf9f8286006a"
      },
      "outputs": [
        {
          "output_type": "stream",
          "name": "stdout",
          "text": [
            "Found 5144 images belonging to 3 classes.\n"
          ]
        }
      ],
      "source": [
        "# data augmentation on the testing data\n",
        "\n",
        "\n",
        "x_test = test_datagen.flow_from_directory('/content/drive/MyDrive/covid19_prediction /Data/train',\n",
        "                                            target_size=(64,64),\n",
        "                                            class_mode = 'categorical',\n",
        "                                            batch_size = 100)"
      ]
    },
    {
      "cell_type": "markdown",
      "metadata": {
        "id": "uBmYftXHdKA4"
      },
      "source": [
        "##**CNN Model building**"
      ]
    },
    {
      "cell_type": "code",
      "execution_count": 7,
      "metadata": {
        "id": "aBx6mHGRdOLW"
      },
      "outputs": [],
      "source": [
        "from tensorflow.keras.models import Sequential\n",
        "from tensorflow.keras.layers import Convolution2D, MaxPooling2D,Flatten,Dense"
      ]
    },
    {
      "cell_type": "code",
      "execution_count": 8,
      "metadata": {
        "id": "j9jJh4TFdOih"
      },
      "outputs": [],
      "source": [
        "# adding layers\n",
        "\n",
        "model = Sequential()\n",
        "\n",
        "model.add(Convolution2D(32,(3,3),activation='relu',input_shape=(64,64,3)))  #convolution layer\n",
        "model.add(MaxPooling2D(pool_size =(2,2)))  # maxpooling layer\n",
        "model.add(Flatten())  # flatten layer\n",
        "\n",
        "model.add(Dense(300,activation ='relu')) # hidden layer 1\n",
        "model.add(Dense(150,activation ='relu')) # hidden layer 2\n",
        "\n",
        "model.add(Dense(3,activation ='softmax')) # output layer\n"
      ]
    },
    {
      "cell_type": "code",
      "execution_count": 9,
      "metadata": {
        "id": "A3xUotWrdOyX"
      },
      "outputs": [],
      "source": [
        "# compile the model\n",
        "model.compile(optimizer = 'adam',loss= 'categorical_crossentropy',metrics =['accuracy'])\n"
      ]
    },
    {
      "cell_type": "code",
      "execution_count": 107,
      "metadata": {
        "colab": {
          "base_uri": "https://localhost:8080/"
        },
        "id": "zbqysphVdPFU",
        "outputId": "9e70be55-b546-4c61-8b8c-e37da7a6d2f9"
      },
      "outputs": [
        {
          "output_type": "stream",
          "name": "stderr",
          "text": [
            "<ipython-input-107-de9bb40c50f0>:2: UserWarning: `Model.fit_generator` is deprecated and will be removed in a future version. Please use `Model.fit`, which supports generators.\n",
            "  model.fit_generator(x_train, steps_per_epoch=len(x_train), epochs=10)\n"
          ]
        },
        {
          "output_type": "stream",
          "name": "stdout",
          "text": [
            "Epoch 1/10\n",
            "52/52 [==============================] - 72s 1s/step - loss: 0.9567 - accuracy: 0.6878\n",
            "Epoch 2/10\n",
            "52/52 [==============================] - 69s 1s/step - loss: 0.3816 - accuracy: 0.8451\n",
            "Epoch 3/10\n",
            "52/52 [==============================] - 70s 1s/step - loss: 0.2822 - accuracy: 0.8921\n",
            "Epoch 4/10\n",
            "52/52 [==============================] - 71s 1s/step - loss: 0.2827 - accuracy: 0.8919\n",
            "Epoch 5/10\n",
            "52/52 [==============================] - 70s 1s/step - loss: 0.2538 - accuracy: 0.9047\n",
            "Epoch 6/10\n",
            "52/52 [==============================] - 69s 1s/step - loss: 0.2453 - accuracy: 0.9067\n",
            "Epoch 7/10\n",
            "52/52 [==============================] - 69s 1s/step - loss: 0.2188 - accuracy: 0.9185\n",
            "Epoch 8/10\n",
            "52/52 [==============================] - 71s 1s/step - loss: 0.2105 - accuracy: 0.9226\n",
            "Epoch 9/10\n",
            "52/52 [==============================] - 70s 1s/step - loss: 0.2131 - accuracy: 0.9252\n",
            "Epoch 10/10\n",
            "52/52 [==============================] - 72s 1s/step - loss: 0.1943 - accuracy: 0.9306\n"
          ]
        },
        {
          "output_type": "execute_result",
          "data": {
            "text/plain": [
              "<keras.src.callbacks.History at 0x7dbdd5058730>"
            ]
          },
          "metadata": {},
          "execution_count": 107
        }
      ],
      "source": [
        "#traing the model\n",
        "model.fit_generator(x_train, steps_per_epoch=len(x_train), epochs=10)"
      ]
    },
    {
      "cell_type": "code",
      "execution_count": 110,
      "metadata": {
        "id": "Zg_7x-A9gruX",
        "colab": {
          "base_uri": "https://localhost:8080/"
        },
        "outputId": "71914fb8-d8ff-4552-a3b4-c9a2ae3caf58"
      },
      "outputs": [
        {
          "output_type": "stream",
          "name": "stderr",
          "text": [
            "/usr/local/lib/python3.10/dist-packages/keras/src/engine/training.py:3079: UserWarning: You are saving your model as an HDF5 file via `model.save()`. This file format is considered legacy. We recommend using instead the native Keras format, e.g. `model.save('my_model.keras')`.\n",
            "  saving_api.save_model(\n"
          ]
        }
      ],
      "source": [
        "# saving  the model\n",
        "\n",
        "model.save('covid19.h5')"
      ]
    },
    {
      "cell_type": "markdown",
      "metadata": {
        "id": "uRFknk1vg1lV"
      },
      "source": [
        "##**test the model**"
      ]
    },
    {
      "cell_type": "code",
      "execution_count": 111,
      "metadata": {
        "id": "1zFzz1XFg8Xj"
      },
      "outputs": [],
      "source": [
        "from tensorflow.keras.preprocessing import image\n",
        "import numpy as np"
      ]
    },
    {
      "cell_type": "code",
      "execution_count": 112,
      "metadata": {
        "id": "XqJvGgDCg8aL"
      },
      "outputs": [],
      "source": [
        "# testing 1\n",
        "img = image.load_img('/content/drive/MyDrive/covid19_prediction /Data/test/COVID19/COVID19(573).jpg',target_size =(64,64))\n",
        "# test_image = tf.keras.preprocessing.image.load_img('path/to/test/image.jpg', target_size=(224, 224))\n",
        "# test_image = tf.keras.preprocessing.image.img_to_array(test_image)\n",
        "# test_image = np.expand_dims(test_image, axis=0)\n",
        "\n",
        "# predictions = base_model.predict(test_image)\n",
        "# print('Predicted class:', predictions)\n"
      ]
    },
    {
      "cell_type": "code",
      "execution_count": 113,
      "metadata": {
        "id": "qhlLHAHgg8kZ",
        "colab": {
          "base_uri": "https://localhost:8080/",
          "height": 81
        },
        "outputId": "a0952822-d52d-4093-d9a9-6030703c564e"
      },
      "outputs": [
        {
          "output_type": "execute_result",
          "data": {
            "text/plain": [
              "<PIL.Image.Image image mode=RGB size=64x64>"
            ],
            "image/png": "[encoded data removed]"
          },
          "metadata": {},
          "execution_count": 113
        }
      ],
      "source": [
        "img"
      ]
    },
    {
      "cell_type": "code",
      "execution_count": 114,
      "metadata": {
        "id": "C5E0Y7Jihfk2",
        "colab": {
          "base_uri": "https://localhost:8080/",
          "height": 54
        },
        "outputId": "e07732a8-ed66-4217-ba9e-cfe8f9effe9d"
      },
      "outputs": [
        {
          "output_type": "stream",
          "name": "stdout",
          "text": [
            "1/1 [==============================] - 0s 18ms/step\n"
          ]
        },
        {
          "output_type": "execute_result",
          "data": {
            "text/plain": [
              "'NORMAL'"
            ],
            "application/vnd.google.colaboratory.intrinsic+json": {
              "type": "string"
            }
          },
          "metadata": {},
          "execution_count": 114
        }
      ],
      "source": [
        "x = image.img_to_array(img)\n",
        "x = np.expand_dims(x,axis = 0)\n",
        "pred =np.argmax(model.predict(x))\n",
        "op =['COVID19','NORMAL','PNEUMONIA']\n",
        "op[pred]"
      ]
    },
    {
      "cell_type": "code",
      "execution_count": 115,
      "metadata": {
        "id": "m_8t30oAhfhs"
      },
      "outputs": [],
      "source": [
        "# testing 2\n",
        "img = image.load_img('/content/drive/MyDrive/covid19_prediction /Data/train/COVID19/COVID19(104).jpg',target_size =(64,64))"
      ]
    },
    {
      "cell_type": "code",
      "execution_count": 116,
      "metadata": {
        "colab": {
          "base_uri": "https://localhost:8080/",
          "height": 81
        },
        "id": "ESBwp8G8iNQZ",
        "outputId": "8d562473-28d4-4db7-f4f8-72376001a73d"
      },
      "outputs": [
        {
          "output_type": "execute_result",
          "data": {
            "text/plain": [
              "<PIL.Image.Image image mode=RGB size=64x64>"
            ],
            "image/png": "[encoded data removed]"
          },
          "metadata": {},
          "execution_count": 116
        }
      ],
      "source": [
        "img"
      ]
    },
    {
      "cell_type": "code",
      "execution_count": 117,
      "metadata": {
        "colab": {
          "base_uri": "https://localhost:8080/",
          "height": 54
        },
        "id": "9rkJpd-AiM9l",
        "outputId": "1e25d94a-3682-4623-fb6c-a65aafc4d65c"
      },
      "outputs": [
        {
          "output_type": "stream",
          "name": "stdout",
          "text": [
            "1/1 [==============================] - 0s 29ms/step\n"
          ]
        },
        {
          "output_type": "execute_result",
          "data": {
            "text/plain": [
              "'COVID19'"
            ],
            "application/vnd.google.colaboratory.intrinsic+json": {
              "type": "string"
            }
          },
          "metadata": {},
          "execution_count": 117
        }
      ],
      "source": [
        "x = image.img_to_array(img)\n",
        "x = np.expand_dims(x,axis = 0)\n",
        "pred =np.argmax(model.predict(x))\n",
        "op =['COVID19','NORMAL','PNEUMONIA']\n",
        "op[pred]"
      ]
    },
    {
      "cell_type": "code",
      "execution_count": 118,
      "metadata": {
        "id": "XXErbQYriRlf"
      },
      "outputs": [],
      "source": [
        "# testing 3\n",
        "img = image.load_img('/content/drive/MyDrive/covid19_prediction /Data/train/NORMAL/NORMAL(1006).jpg',target_size =(64,64))"
      ]
    },
    {
      "cell_type": "code",
      "execution_count": 119,
      "metadata": {
        "colab": {
          "base_uri": "https://localhost:8080/",
          "height": 81
        },
        "id": "ZkA7YiUiiRid",
        "outputId": "1be4a21d-a933-4ad9-bd76-c33a2a5c0eee"
      },
      "outputs": [
        {
          "output_type": "execute_result",
          "data": {
            "text/plain": [
              "<PIL.Image.Image image mode=RGB size=64x64>"
            ],
            "image/png": "[encoded data removed]"
          },
          "metadata": {},
          "execution_count": 119
        }
      ],
      "source": [
        "img"
      ]
    },
    {
      "cell_type": "code",
      "execution_count": 120,
      "metadata": {
        "colab": {
          "base_uri": "https://localhost:8080/",
          "height": 54
        },
        "id": "RE7l4x0UitCK",
        "outputId": "2d387a8d-1d57-4fa7-ad6b-b800703c09f3"
      },
      "outputs": [
        {
          "output_type": "stream",
          "name": "stdout",
          "text": [
            "1/1 [==============================] - 0s 18ms/step\n"
          ]
        },
        {
          "output_type": "execute_result",
          "data": {
            "text/plain": [
              "'NORMAL'"
            ],
            "application/vnd.google.colaboratory.intrinsic+json": {
              "type": "string"
            }
          },
          "metadata": {},
          "execution_count": 120
        }
      ],
      "source": [
        "x = image.img_to_array(img)\n",
        "x = np.expand_dims(x,axis = 0)\n",
        "pred =np.argmax(model.predict(x))\n",
        "op =['COVID19','NORMAL','PNEUMONIA']\n",
        "op[pred]"
      ]
    },
    {
      "cell_type": "markdown",
      "metadata": {
        "id": "_7Xmn1IykBr5"
      },
      "source": [
        "##**evaluating a cnn model**"
      ]
    },
    {
      "cell_type": "code",
      "execution_count": 121,
      "metadata": {
        "colab": {
          "base_uri": "https://localhost:8080/"
        },
        "id": "-V8iwPW4lSPw",
        "outputId": "5da7c586-d02a-46d0-8c15-b069b034f869"
      },
      "outputs": [
        {
          "output_type": "stream",
          "name": "stdout",
          "text": [
            "52/52 [==============================] - 64s 1s/step - loss: 0.2510 - accuracy: 0.9055\n"
          ]
        },
        {
          "output_type": "execute_result",
          "data": {
            "text/plain": [
              "[0.2510052025318146, 0.9055209755897522]"
            ]
          },
          "metadata": {},
          "execution_count": 121
        }
      ],
      "source": [
        "model.evaluate(x_test)"
      ]
    },
    {
      "cell_type": "markdown",
      "metadata": {
        "id": "UmxwfAnzq4Ht"
      },
      "source": [
        "##**implementing transfer learning using vgg16**"
      ]
    },
    {
      "cell_type": "code",
      "execution_count": 26,
      "metadata": {
        "id": "DwpGWf-n_4-U"
      },
      "outputs": [],
      "source": [
        "trainpath = '/content/drive/MyDrive/covid19_prediction /Data/train'\n",
        "testpath = '/content/drive/MyDrive/covid19_prediction /Data/test'\n"
      ]
    },
    {
      "cell_type": "code",
      "execution_count": 27,
      "metadata": {
        "id": "siAfnU8l_4tR"
      },
      "outputs": [],
      "source": [
        "train_datagen = ImageDataGenerator(rescale = 1./255,zoom_range= 0.2,shear_range= 0.2)\n",
        "test_datagen = ImageDataGenerator(rescale = 1./255)"
      ]
    },
    {
      "cell_type": "code",
      "execution_count": 28,
      "metadata": {
        "colab": {
          "base_uri": "https://localhost:8080/"
        },
        "id": "NndQvN41_4dp",
        "outputId": "467adc18-d5d2-4f9a-9daa-a85576a650cc"
      },
      "outputs": [
        {
          "output_type": "stream",
          "name": "stdout",
          "text": [
            "Found 5144 images belonging to 3 classes.\n",
            "Found 1288 images belonging to 3 classes.\n"
          ]
        }
      ],
      "source": [
        "train = train_datagen.flow_from_directory(trainpath,target_size =(224,224),batch_size = 16)\n",
        "test = test_datagen.flow_from_directory(testpath,target_size =(224,224),batch_size = 16)\n"
      ]
    },
    {
      "cell_type": "code",
      "execution_count": 29,
      "metadata": {
        "id": "bvUmJDjTGUE1"
      },
      "outputs": [],
      "source": [
        "from tensorflow.keras.applications.vgg16 import VGG16\n",
        "from tensorflow.keras.layers import Dense, Flatten\n",
        "from tensorflow.keras.models import Model"
      ]
    },
    {
      "cell_type": "code",
      "execution_count": 30,
      "metadata": {
        "id": "tiLg12vwGUCF",
        "colab": {
          "base_uri": "https://localhost:8080/"
        },
        "outputId": "0de12ed0-e708-44f8-ba60-19873960dfa7"
      },
      "outputs": [
        {
          "output_type": "stream",
          "name": "stdout",
          "text": [
            "Downloading data from https://storage.googleapis.com/tensorflow/keras-applications/vgg16/vgg16_weights_tf_dim_ordering_tf_kernels_notop.h5\n",
            "58889256/58889256 [==============================] - 0s 0us/step\n"
          ]
        }
      ],
      "source": [
        "vgg = VGG16(include_top = False,input_shape = (224,224,3))"
      ]
    },
    {
      "cell_type": "code",
      "execution_count": 31,
      "metadata": {
        "colab": {
          "base_uri": "https://localhost:8080/"
        },
        "id": "2FnkEalcGT_c",
        "outputId": "d37744d9-204e-4e39-b4d0-ba9d122df9c0"
      },
      "outputs": [
        {
          "output_type": "stream",
          "name": "stdout",
          "text": [
            "<keras.src.engine.input_layer.InputLayer object at 0x7dbe680dabc0>\n",
            "<keras.src.layers.convolutional.conv2d.Conv2D object at 0x7dbe680db5e0>\n",
            "<keras.src.layers.convolutional.conv2d.Conv2D object at 0x7dbe680dad10>\n",
            "<keras.src.layers.pooling.max_pooling2d.MaxPooling2D object at 0x7dbe501985b0>\n",
            "<keras.src.layers.convolutional.conv2d.Conv2D object at 0x7dbe680db220>\n",
            "<keras.src.layers.convolutional.conv2d.Conv2D object at 0x7dbe50199180>\n",
            "<keras.src.layers.pooling.max_pooling2d.MaxPooling2D object at 0x7dbe50198d00>\n",
            "<keras.src.layers.convolutional.conv2d.Conv2D object at 0x7dbe5019abc0>\n",
            "<keras.src.layers.convolutional.conv2d.Conv2D object at 0x7dbe5019af20>\n",
            "<keras.src.layers.convolutional.conv2d.Conv2D object at 0x7dbe5019bdf0>\n",
            "<keras.src.layers.pooling.max_pooling2d.MaxPooling2D object at 0x7dbe501b5030>\n",
            "<keras.src.layers.convolutional.conv2d.Conv2D object at 0x7dbe501b5750>\n",
            "<keras.src.layers.convolutional.conv2d.Conv2D object at 0x7dbe501b5ab0>\n",
            "<keras.src.layers.convolutional.conv2d.Conv2D object at 0x7dbe501b5300>\n",
            "<keras.src.layers.pooling.max_pooling2d.MaxPooling2D object at 0x7dbe501b7910>\n",
            "<keras.src.layers.convolutional.conv2d.Conv2D object at 0x7dbe501b6dd0>\n",
            "<keras.src.layers.convolutional.conv2d.Conv2D object at 0x7dbe501b5690>\n",
            "<keras.src.layers.convolutional.conv2d.Conv2D object at 0x7dbe501c97e0>\n",
            "<keras.src.layers.pooling.max_pooling2d.MaxPooling2D object at 0x7dbe501ca170>\n"
          ]
        }
      ],
      "source": [
        "for layer in vgg.layers:\n",
        "  print(layer)\n"
      ]
    },
    {
      "cell_type": "code",
      "execution_count": 35,
      "metadata": {
        "colab": {
          "base_uri": "https://localhost:8080/"
        },
        "id": "BKIyo-L5GT8m",
        "outputId": "1370cf2c-5005-44d7-d134-2a24ea237fe8"
      },
      "outputs": [
        {
          "output_type": "execute_result",
          "data": {
            "text/plain": [
              "19"
            ]
          },
          "metadata": {},
          "execution_count": 35
        }
      ],
      "source": [
        "len(vgg.layers)"
      ]
    },
    {
      "cell_type": "code",
      "execution_count": 36,
      "metadata": {
        "id": "F7b5ThpeGT2b"
      },
      "outputs": [],
      "source": [
        "for layer in vgg.layers:\n",
        "  layer.trainable = False"
      ]
    },
    {
      "cell_type": "code",
      "execution_count": 37,
      "metadata": {
        "id": "7rXbG5n3GiRz"
      },
      "outputs": [],
      "source": [
        "x= Flatten()(vgg.output)"
      ]
    },
    {
      "cell_type": "code",
      "execution_count": 38,
      "metadata": {
        "id": "rnFvVlVwGjg4"
      },
      "outputs": [],
      "source": [
        "output = Dense(3, activation ='softmax')(x)"
      ]
    },
    {
      "cell_type": "code",
      "execution_count": 39,
      "metadata": {
        "id": "PbiFV8pIGjei"
      },
      "outputs": [],
      "source": [
        "vgg16 = Model(vgg.input,output)\n"
      ]
    },
    {
      "cell_type": "code",
      "execution_count": 40,
      "metadata": {
        "colab": {
          "base_uri": "https://localhost:8080/"
        },
        "id": "v6N0ARCfGjb5",
        "outputId": "42104b58-d2e3-46b1-bff9-945efd161dba"
      },
      "outputs": [
        {
          "output_type": "stream",
          "name": "stdout",
          "text": [
            "Model: \"model\"\n",
            "_________________________________________________________________\n",
            " Layer (type)                Output Shape              Param #   \n",
            "=================================================================\n",
            " input_1 (InputLayer)        [(None, 224, 224, 3)]     0         \n",
            "                                                                 \n",
            " block1_conv1 (Conv2D)       (None, 224, 224, 64)      1792      \n",
            "                                                                 \n",
            " block1_conv2 (Conv2D)       (None, 224, 224, 64)      36928     \n",
            "                                                                 \n",
            " block1_pool (MaxPooling2D)  (None, 112, 112, 64)      0         \n",
            "                                                                 \n",
            " block2_conv1 (Conv2D)       (None, 112, 112, 128)     73856     \n",
            "                                                                 \n",
            " block2_conv2 (Conv2D)       (None, 112, 112, 128)     147584    \n",
            "                                                                 \n",
            " block2_pool (MaxPooling2D)  (None, 56, 56, 128)       0         \n",
            "                                                                 \n",
            " block3_conv1 (Conv2D)       (None, 56, 56, 256)       295168    \n",
            "                                                                 \n",
            " block3_conv2 (Conv2D)       (None, 56, 56, 256)       590080    \n",
            "                                                                 \n",
            " block3_conv3 (Conv2D)       (None, 56, 56, 256)       590080    \n",
            "                                                                 \n",
            " block3_pool (MaxPooling2D)  (None, 28, 28, 256)       0         \n",
            "                                                                 \n",
            " block4_conv1 (Conv2D)       (None, 28, 28, 512)       1180160   \n",
            "                                                                 \n",
            " block4_conv2 (Conv2D)       (None, 28, 28, 512)       2359808   \n",
            "                                                                 \n",
            " block4_conv3 (Conv2D)       (None, 28, 28, 512)       2359808   \n",
            "                                                                 \n",
            " block4_pool (MaxPooling2D)  (None, 14, 14, 512)       0         \n",
            "                                                                 \n",
            " block5_conv1 (Conv2D)       (None, 14, 14, 512)       2359808   \n",
            "                                                                 \n",
            " block5_conv2 (Conv2D)       (None, 14, 14, 512)       2359808   \n",
            "                                                                 \n",
            " block5_conv3 (Conv2D)       (None, 14, 14, 512)       2359808   \n",
            "                                                                 \n",
            " block5_pool (MaxPooling2D)  (None, 7, 7, 512)         0         \n",
            "                                                                 \n",
            " flatten_1 (Flatten)         (None, 25088)             0         \n",
            "                                                                 \n",
            " dense_3 (Dense)             (None, 3)                 75267     \n",
            "                                                                 \n",
            "=================================================================\n",
            "Total params: 14789955 (56.42 MB)\n",
            "Trainable params: 75267 (294.01 KB)\n",
            "Non-trainable params: 14714688 (56.13 MB)\n",
            "_________________________________________________________________\n"
          ]
        }
      ],
      "source": [
        "vgg16.summary()\n"
      ]
    },
    {
      "cell_type": "code",
      "execution_count": 41,
      "metadata": {
        "id": "Jv7SSC3NGuhJ"
      },
      "outputs": [],
      "source": [
        "vgg16.compile(loss = 'categorical_crossentropy',optimizer = 'adam',metrics =['accuracy'])\n"
      ]
    },
    {
      "cell_type": "code",
      "execution_count": 64,
      "metadata": {
        "colab": {
          "base_uri": "https://localhost:8080/"
        },
        "id": "OBWnrSGqGuR2",
        "outputId": "a3c3a6b9-f30d-4612-e27f-ab9416a247d7"
      },
      "outputs": [
        {
          "output_type": "stream",
          "name": "stdout",
          "text": [
            "Epoch 1/3\n",
            "322/322 [==============================] - 160s 494ms/step - loss: 0.1243 - accuracy: 0.9553 - val_loss: 0.1396 - val_accuracy: 0.9495\n",
            "Epoch 2/3\n",
            "322/322 [==============================] - 152s 472ms/step - loss: 0.1187 - accuracy: 0.9582 - val_loss: 0.1470 - val_accuracy: 0.9472\n",
            "Epoch 3/3\n",
            "322/322 [==============================] - 151s 468ms/step - loss: 0.0843 - accuracy: 0.9677 - val_loss: 0.2427 - val_accuracy: 0.9262\n"
          ]
        },
        {
          "output_type": "execute_result",
          "data": {
            "text/plain": [
              "<keras.src.callbacks.History at 0x7dbe501b5f90>"
            ]
          },
          "metadata": {},
          "execution_count": 64
        }
      ],
      "source": [
        "vgg16.fit(train,validation_data=test,epochs=3,steps_per_epoch=len(train),validation_steps =len(test))\n"
      ]
    },
    {
      "cell_type": "code",
      "execution_count": 129,
      "metadata": {
        "colab": {
          "base_uri": "https://localhost:8080/"
        },
        "id": "FSnNe2rNLLBe",
        "outputId": "edf31420-e13d-41c0-e9cb-a44fd4e0fc7b"
      },
      "outputs": [
        {
          "output_type": "stream",
          "name": "stderr",
          "text": [
            "/usr/local/lib/python3.10/dist-packages/keras/src/engine/training.py:3079: UserWarning: You are saving your model as an HDF5 file via `model.save()`. This file format is considered legacy. We recommend using instead the native Keras format, e.g. `model.save('my_model.keras')`.\n",
            "  saving_api.save_model(\n"
          ]
        }
      ],
      "source": [
        "# saving  the model\n",
        "model.save('covid.h5')"
      ]
    },
    {
      "cell_type": "markdown",
      "metadata": {
        "id": "b7ps1vAghaZ5"
      },
      "source": [
        "##**testing vgg16 mode**\n"
      ]
    },
    {
      "cell_type": "code",
      "execution_count": 130,
      "metadata": {
        "id": "-20dFgeDN6Pk",
        "colab": {
          "base_uri": "https://localhost:8080/"
        },
        "outputId": "a83bbd60-ea09-42bf-a05e-084f03ab5695"
      },
      "outputs": [
        {
          "output_type": "stream",
          "name": "stdout",
          "text": [
            "Requirement already satisfied: tensorflow in /usr/local/lib/python3.10/dist-packages (2.14.0)\n",
            "Requirement already satisfied: absl-py>=1.0.0 in /usr/local/lib/python3.10/dist-packages (from tensorflow) (1.4.0)\n",
            "Requirement already satisfied: astunparse>=1.6.0 in /usr/local/lib/python3.10/dist-packages (from tensorflow) (1.6.3)\n",
            "Requirement already satisfied: flatbuffers>=23.5.26 in /usr/local/lib/python3.10/dist-packages (from tensorflow) (23.5.26)\n",
            "Requirement already satisfied: gast!=0.5.0,!=0.5.1,!=0.5.2,>=0.2.1 in /usr/local/lib/python3.10/dist-packages (from tensorflow) (0.5.4)\n",
            "Requirement already satisfied: google-pasta>=0.1.1 in /usr/local/lib/python3.10/dist-packages (from tensorflow) (0.2.0)\n",
            "Requirement already satisfied: h5py>=2.9.0 in /usr/local/lib/python3.10/dist-packages (from tensorflow) (3.9.0)\n",
            "Requirement already satisfied: libclang>=13.0.0 in /usr/local/lib/python3.10/dist-packages (from tensorflow) (16.0.6)\n",
            "Requirement already satisfied: ml-dtypes==0.2.0 in /usr/local/lib/python3.10/dist-packages (from tensorflow) (0.2.0)\n",
            "Requirement already satisfied: numpy>=1.23.5 in /usr/local/lib/python3.10/dist-packages (from tensorflow) (1.23.5)\n",
            "Requirement already satisfied: opt-einsum>=2.3.2 in /usr/local/lib/python3.10/dist-packages (from tensorflow) (3.3.0)\n",
            "Requirement already satisfied: packaging in /usr/local/lib/python3.10/dist-packages (from tensorflow) (23.2)\n",
            "Requirement already satisfied: protobuf!=4.21.0,!=4.21.1,!=4.21.2,!=4.21.3,!=4.21.4,!=4.21.5,<5.0.0dev,>=3.20.3 in /usr/local/lib/python3.10/dist-packages (from tensorflow) (3.20.3)\n",
            "Requirement already satisfied: setuptools in /usr/local/lib/python3.10/dist-packages (from tensorflow) (67.7.2)\n",
            "Requirement already satisfied: six>=1.12.0 in /usr/local/lib/python3.10/dist-packages (from tensorflow) (1.16.0)\n",
            "Requirement already satisfied: termcolor>=1.1.0 in /usr/local/lib/python3.10/dist-packages (from tensorflow) (2.3.0)\n",
            "Requirement already satisfied: typing-extensions>=3.6.6 in /usr/local/lib/python3.10/dist-packages (from tensorflow) (4.5.0)\n",
            "Requirement already satisfied: wrapt<1.15,>=1.11.0 in /usr/local/lib/python3.10/dist-packages (from tensorflow) (1.14.1)\n",
            "Requirement already satisfied: tensorflow-io-gcs-filesystem>=0.23.1 in /usr/local/lib/python3.10/dist-packages (from tensorflow) (0.34.0)\n",
            "Requirement already satisfied: grpcio<2.0,>=1.24.3 in /usr/local/lib/python3.10/dist-packages (from tensorflow) (1.59.2)\n",
            "Requirement already satisfied: tensorboard<2.15,>=2.14 in /usr/local/lib/python3.10/dist-packages (from tensorflow) (2.14.1)\n",
            "Requirement already satisfied: tensorflow-estimator<2.15,>=2.14.0 in /usr/local/lib/python3.10/dist-packages (from tensorflow) (2.14.0)\n",
            "Requirement already satisfied: keras<2.15,>=2.14.0 in /usr/local/lib/python3.10/dist-packages (from tensorflow) (2.14.0)\n",
            "Requirement already satisfied: wheel<1.0,>=0.23.0 in /usr/local/lib/python3.10/dist-packages (from astunparse>=1.6.0->tensorflow) (0.41.3)\n",
            "Requirement already satisfied: google-auth<3,>=1.6.3 in /usr/local/lib/python3.10/dist-packages (from tensorboard<2.15,>=2.14->tensorflow) (2.17.3)\n",
            "Requirement already satisfied: google-auth-oauthlib<1.1,>=0.5 in /usr/local/lib/python3.10/dist-packages (from tensorboard<2.15,>=2.14->tensorflow) (1.0.0)\n",
            "Requirement already satisfied: markdown>=2.6.8 in /usr/local/lib/python3.10/dist-packages (from tensorboard<2.15,>=2.14->tensorflow) (3.5.1)\n",
            "Requirement already satisfied: requests<3,>=2.21.0 in /usr/local/lib/python3.10/dist-packages (from tensorboard<2.15,>=2.14->tensorflow) (2.31.0)\n",
            "Requirement already satisfied: tensorboard-data-server<0.8.0,>=0.7.0 in /usr/local/lib/python3.10/dist-packages (from tensorboard<2.15,>=2.14->tensorflow) (0.7.2)\n",
            "Requirement already satisfied: werkzeug>=1.0.1 in /usr/local/lib/python3.10/dist-packages (from tensorboard<2.15,>=2.14->tensorflow) (3.0.1)\n",
            "Requirement already satisfied: cachetools<6.0,>=2.0.0 in /usr/local/lib/python3.10/dist-packages (from google-auth<3,>=1.6.3->tensorboard<2.15,>=2.14->tensorflow) (5.3.2)\n",
            "Requirement already satisfied: pyasn1-modules>=0.2.1 in /usr/local/lib/python3.10/dist-packages (from google-auth<3,>=1.6.3->tensorboard<2.15,>=2.14->tensorflow) (0.3.0)\n",
            "Requirement already satisfied: rsa<5,>=3.1.4 in /usr/local/lib/python3.10/dist-packages (from google-auth<3,>=1.6.3->tensorboard<2.15,>=2.14->tensorflow) (4.9)\n",
            "Requirement already satisfied: requests-oauthlib>=0.7.0 in /usr/local/lib/python3.10/dist-packages (from google-auth-oauthlib<1.1,>=0.5->tensorboard<2.15,>=2.14->tensorflow) (1.3.1)\n",
            "Requirement already satisfied: charset-normalizer<4,>=2 in /usr/local/lib/python3.10/dist-packages (from requests<3,>=2.21.0->tensorboard<2.15,>=2.14->tensorflow) (3.3.2)\n",
            "Requirement already satisfied: idna<4,>=2.5 in /usr/local/lib/python3.10/dist-packages (from requests<3,>=2.21.0->tensorboard<2.15,>=2.14->tensorflow) (3.4)\n",
            "Requirement already satisfied: urllib3<3,>=1.21.1 in /usr/local/lib/python3.10/dist-packages (from requests<3,>=2.21.0->tensorboard<2.15,>=2.14->tensorflow) (2.0.7)\n",
            "Requirement already satisfied: certifi>=2017.4.17 in /usr/local/lib/python3.10/dist-packages (from requests<3,>=2.21.0->tensorboard<2.15,>=2.14->tensorflow) (2023.7.22)\n",
            "Requirement already satisfied: MarkupSafe>=2.1.1 in /usr/local/lib/python3.10/dist-packages (from werkzeug>=1.0.1->tensorboard<2.15,>=2.14->tensorflow) (2.1.3)\n",
            "Requirement already satisfied: pyasn1<0.6.0,>=0.4.6 in /usr/local/lib/python3.10/dist-packages (from pyasn1-modules>=0.2.1->google-auth<3,>=1.6.3->tensorboard<2.15,>=2.14->tensorflow) (0.5.0)\n",
            "Requirement already satisfied: oauthlib>=3.0.0 in /usr/local/lib/python3.10/dist-packages (from requests-oauthlib>=0.7.0->google-auth-oauthlib<1.1,>=0.5->tensorboard<2.15,>=2.14->tensorflow) (3.2.2)\n"
          ]
        }
      ],
      "source": [
        "!pip install tensorflow\n",
        "import tensorflow as tf\n",
        "from tensorflow.keras.preprocessing import image\n",
        "import numpy as np"
      ]
    },
    {
      "cell_type": "code",
      "execution_count": 131,
      "metadata": {
        "id": "WofOBg1uOGBu"
      },
      "outputs": [],
      "source": [
        "# testing 1\n",
        "img = image.load_img('/content/drive/MyDrive/covid19_prediction /Data/train/COVID19/COVID19(101).jpg',target_size =(64,64))\n",
        "# test_image = tf.keras.preprocessing.image.load_img('/content/drive/MyDrive/covid19_prediction /Data/train/COVID19/COVID19(100).jpg', target_size=(224, 224))\n",
        "# test_image = tf.keras.preprocessing.image.img_to_array(test_image)\n",
        "# test_image = np.expand_dims(test_image, axis=0)\n",
        "\n",
        "# predictions = vgg.predict(test_image)\n",
        "# print('Predicted class:', predictions)"
      ]
    },
    {
      "cell_type": "code",
      "execution_count": 132,
      "metadata": {
        "colab": {
          "base_uri": "https://localhost:8080/",
          "height": 81
        },
        "id": "f3e-CJxvOKgO",
        "outputId": "7e7b5123-0602-46d8-a29d-23bbf8eb9822"
      },
      "outputs": [
        {
          "output_type": "execute_result",
          "data": {
            "text/plain": [
              "<PIL.Image.Image image mode=RGB size=64x64>"
            ],
            "image/png": "[encoded data removed]"
          },
          "metadata": {},
          "execution_count": 132
        }
      ],
      "source": [
        "img"
      ]
    },
    {
      "cell_type": "code",
      "execution_count": 134,
      "metadata": {
        "colab": {
          "base_uri": "https://localhost:8080/",
          "height": 54
        },
        "id": "uSQturEtOM5s",
        "outputId": "4473436f-1b37-44aa-fd7d-af20b836832f"
      },
      "outputs": [
        {
          "output_type": "stream",
          "name": "stdout",
          "text": [
            "1/1 [==============================] - 0s 33ms/step\n"
          ]
        },
        {
          "output_type": "execute_result",
          "data": {
            "text/plain": [
              "'COVID19'"
            ],
            "application/vnd.google.colaboratory.intrinsic+json": {
              "type": "string"
            }
          },
          "metadata": {},
          "execution_count": 134
        }
      ],
      "source": [
        "x = image.img_to_array(img)\n",
        "x = np.expand_dims(x,axis = 0)\n",
        "pred =np.argmax(model.predict(x))\n",
        "op =['COVID19','NORMAL','PNEUMONIA']\n",
        "op[pred]"
      ]
    },
    {
      "cell_type": "code",
      "execution_count": 74,
      "metadata": {
        "id": "9NoDdTAcht-4"
      },
      "outputs": [],
      "source": [
        "#testing 2"
      ]
    },
    {
      "cell_type": "code",
      "execution_count": 147,
      "metadata": {
        "id": "5rgae-sFht1r"
      },
      "outputs": [],
      "source": [
        "img = image.load_img('/content/drive/MyDrive/covid19_prediction /Data/test/COVID19/COVID19(473).jpg',target_size =(64,64))"
      ]
    },
    {
      "cell_type": "code",
      "execution_count": 148,
      "metadata": {
        "id": "y0FkgBvMhtpp",
        "colab": {
          "base_uri": "https://localhost:8080/",
          "height": 81
        },
        "outputId": "ad063d52-9a38-4c24-d713-fcf8c3d6f108"
      },
      "outputs": [
        {
          "output_type": "execute_result",
          "data": {
            "text/plain": [
              "<PIL.Image.Image image mode=RGB size=64x64>"
            ],
            "image/png": "[encoded data removed]"
          },
          "metadata": {},
          "execution_count": 148
        }
      ],
      "source": [
        "img"
      ]
    },
    {
      "cell_type": "code",
      "execution_count": 149,
      "metadata": {
        "id": "qdqSMZWLh22r",
        "colab": {
          "base_uri": "https://localhost:8080/",
          "height": 54
        },
        "outputId": "6cd4a5d8-24a5-496d-9127-118b78d4fcba"
      },
      "outputs": [
        {
          "output_type": "stream",
          "name": "stdout",
          "text": [
            "1/1 [==============================] - 0s 18ms/step\n"
          ]
        },
        {
          "output_type": "execute_result",
          "data": {
            "text/plain": [
              "'COVID19'"
            ],
            "application/vnd.google.colaboratory.intrinsic+json": {
              "type": "string"
            }
          },
          "metadata": {},
          "execution_count": 149
        }
      ],
      "source": [
        "x = image.img_to_array(img)\n",
        "x = np.expand_dims(x,axis = 0)\n",
        "pred =np.argmax(model.predict(x))\n",
        "op =['COVID19','NORMAL','PNEUMONIA']\n",
        "op[pred]"
      ]
    },
    {
      "cell_type": "code",
      "execution_count": 144,
      "metadata": {
        "id": "_XbnD8nFh3lC"
      },
      "outputs": [],
      "source": [
        "#testing3\n",
        "img = image.load_img('/content/drive/MyDrive/covid19_prediction /Data/test/PNEUMONIA/PNEUMONIA(3434).jpg',target_size =(64,64,))"
      ]
    },
    {
      "cell_type": "code",
      "execution_count": 145,
      "metadata": {
        "id": "JP-dTvn0h9x4",
        "colab": {
          "base_uri": "https://localhost:8080/",
          "height": 81
        },
        "outputId": "d0d2a8a5-e0a2-48de-887c-66c1008a8b88"
      },
      "outputs": [
        {
          "output_type": "execute_result",
          "data": {
            "text/plain": [
              "<PIL.Image.Image image mode=RGB size=64x64>"
            ],
            "image/png": "[encoded data removed]"
          },
          "metadata": {},
          "execution_count": 145
        }
      ],
      "source": [
        "img"
      ]
    },
    {
      "cell_type": "code",
      "execution_count": 146,
      "metadata": {
        "id": "VNX9fEIlh-G2",
        "colab": {
          "base_uri": "https://localhost:8080/",
          "height": 54
        },
        "outputId": "af748930-35f3-43a0-e212-a6aabafa8510"
      },
      "outputs": [
        {
          "output_type": "stream",
          "name": "stdout",
          "text": [
            "1/1 [==============================] - 0s 26ms/step\n"
          ]
        },
        {
          "output_type": "execute_result",
          "data": {
            "text/plain": [
              "'PNEUMONIA'"
            ],
            "application/vnd.google.colaboratory.intrinsic+json": {
              "type": "string"
            }
          },
          "metadata": {},
          "execution_count": 146
        }
      ],
      "source": [
        "x = image.img_to_array(img)\n",
        "x = np.expand_dims(x,axis = 0)\n",
        "pred =np.argmax(model.predict(x))\n",
        "op =['COVID19','NORMAL','PNEUMONIA']\n",
        "op[pred]"
      ]
    }
  ],
  "metadata": {
    "accelerator": "GPU",
    "colab": {
      "provenance": [],
      "gpuType": "T4"
    },
    "kernelspec": {
      "display_name": "Python 3",
      "name": "python3"
    },
    "language_info": {
      "name": "python"
    }
  },
  "nbformat": 4,
  "nbformat_minor": 0
}